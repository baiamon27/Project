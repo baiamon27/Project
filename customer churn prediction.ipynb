{
 "cells": [
  {
   "cell_type": "code",
   "execution_count": null,
   "id": "232bcff4-89f3-4521-8ddb-dfa5589a79cb",
   "metadata": {},
   "outputs": [],
   "source": []
  },
  {
   "cell_type": "code",
   "execution_count": 4,
   "id": "9af34300-9f31-450b-a88b-fd9ea88f566e",
   "metadata": {},
   "outputs": [
    {
     "name": "stdout",
     "output_type": "stream",
     "text": [
      "Found existing installation: scikit-learn 1.3.2\n",
      "Uninstalling scikit-learn-1.3.2:\n",
      "  Successfully uninstalled scikit-learn-1.3.2\n",
      "Found existing installation: imbalanced-learn 0.11.0\n",
      "Uninstalling imbalanced-learn-0.11.0:\n",
      "  Successfully uninstalled imbalanced-learn-0.11.0\n"
     ]
    },
    {
     "name": "stderr",
     "output_type": "stream",
     "text": [
      "WARNING: Failed to remove contents in a temporary directory 'C:\\Users\\Baiamonlang\\anaconda3\\Lib\\site-packages\\~-learn'.\n",
      "You can safely remove it manually.\n"
     ]
    }
   ],
   "source": [
    "!pip uninstall -y scikit-learn imbalanced-learn"
   ]
  },
  {
   "cell_type": "code",
   "execution_count": 5,
   "id": "75306e2c-a54c-42ac-b85b-a3cdce85feee",
   "metadata": {},
   "outputs": [
    {
     "name": "stdout",
     "output_type": "stream",
     "text": [
      "Collecting scikit-learn==1.3.2\n",
      "  Using cached scikit_learn-1.3.2-cp311-cp311-win_amd64.whl.metadata (11 kB)\n",
      "Collecting imbalanced-learn==0.11.0\n",
      "  Using cached imbalanced_learn-0.11.0-py3-none-any.whl.metadata (8.3 kB)\n",
      "Requirement already satisfied: numpy==1.26.4 in c:\\users\\baiamonlang\\anaconda3\\lib\\site-packages (1.26.4)\n",
      "Requirement already satisfied: scipy==1.11.4 in c:\\users\\baiamonlang\\anaconda3\\lib\\site-packages (1.11.4)\n",
      "Requirement already satisfied: joblib>=1.1.1 in c:\\users\\baiamonlang\\anaconda3\\lib\\site-packages (from scikit-learn==1.3.2) (1.2.0)\n",
      "Requirement already satisfied: threadpoolctl>=2.0.0 in c:\\users\\baiamonlang\\anaconda3\\lib\\site-packages (from scikit-learn==1.3.2) (3.6.0)\n",
      "Using cached scikit_learn-1.3.2-cp311-cp311-win_amd64.whl (9.2 MB)\n",
      "Using cached imbalanced_learn-0.11.0-py3-none-any.whl (235 kB)\n",
      "Installing collected packages: scikit-learn, imbalanced-learn\n",
      "Successfully installed imbalanced-learn-0.11.0 scikit-learn-1.3.2\n"
     ]
    }
   ],
   "source": [
    "!pip install scikit-learn==1.3.2 imbalanced-learn==0.11.0 numpy==1.26.4 scipy==1.11.4\n"
   ]
  },
  {
   "cell_type": "code",
   "execution_count": 1,
   "id": "6f1317df-9d15-41b5-a946-a6508d0cae71",
   "metadata": {},
   "outputs": [
    {
     "name": "stdout",
     "output_type": "stream",
     "text": [
      "=== Logistic Regression ===\n",
      "              precision    recall  f1-score   support\n",
      "\n",
      "           0       0.92      0.79      0.85       224\n",
      "           1       0.57      0.80      0.67        76\n",
      "\n",
      "    accuracy                           0.80       300\n",
      "   macro avg       0.75      0.80      0.76       300\n",
      "weighted avg       0.83      0.80      0.81       300\n",
      "\n",
      "ROC AUC: 0.7986372180451129\n",
      "\n",
      "=== Decision Tree ===\n",
      "              precision    recall  f1-score   support\n",
      "\n",
      "           0       0.88      0.85      0.87       224\n",
      "           1       0.61      0.67      0.64        76\n",
      "\n",
      "    accuracy                           0.81       300\n",
      "   macro avg       0.75      0.76      0.75       300\n",
      "weighted avg       0.81      0.81      0.81       300\n",
      "\n",
      "ROC AUC: 0.7618656015037594\n"
     ]
    }
   ],
   "source": [
    "\n",
    "from sklearn.datasets import make_classification\n",
    "from sklearn.model_selection import train_test_split\n",
    "from sklearn.preprocessing import StandardScaler\n",
    "from sklearn.linear_model import LogisticRegression\n",
    "from sklearn.tree import DecisionTreeClassifier\n",
    "from sklearn.metrics import classification_report, roc_auc_score\n",
    "from imblearn.over_sampling import SMOTE\n",
    "\n",
    "X, y = make_classification(\n",
    "    n_samples=1000, n_features=10, n_informative=6, n_redundant=2,\n",
    "    n_classes=2, weights=[0.75, 0.25], random_state=42\n",
    ")\n",
    "\n",
    "X_train, X_test, y_train, y_test = train_test_split(\n",
    "    X, y, test_size=0.3, random_state=42, stratify=y\n",
    ")\n",
    "\n",
    "scaler = StandardScaler()\n",
    "X_train_scaled = scaler.fit_transform(X_train)\n",
    "X_test_scaled = scaler.transform(X_test)\n",
    "\n",
    "smote = SMOTE(random_state=42)\n",
    "X_resampled, y_resampled = smote.fit_resample(X_train_scaled, y_train)\n",
    "\n",
    "lr_model = LogisticRegression()\n",
    "lr_model.fit(X_resampled, y_resampled)\n",
    "\n",
    "dt_model = DecisionTreeClassifier(random_state=42)\n",
    "dt_model.fit(X_resampled, y_resampled)\n",
    "\n",
    "lr_preds = lr_model.predict(X_test_scaled)\n",
    "dt_preds = dt_model.predict(X_test_scaled)\n",
    "\n",
    "print('=== Logistic Regression ===')\n",
    "print(classification_report(y_test, lr_preds))\n",
    "print('ROC AUC:', roc_auc_score(y_test, lr_preds))\n",
    "\n",
    "print('\\n=== Decision Tree ===')\n",
    "print(classification_report(y_test, dt_preds))\n",
    "print('ROC AUC:', roc_auc_score(y_test, dt_preds))"
   ]
  }
 ],
 "metadata": {
  "kernelspec": {
   "display_name": "Python 3 (ipykernel)",
   "language": "python",
   "name": "python3"
  },
  "language_info": {
   "codemirror_mode": {
    "name": "ipython",
    "version": 3
   },
   "file_extension": ".py",
   "mimetype": "text/x-python",
   "name": "python",
   "nbconvert_exporter": "python",
   "pygments_lexer": "ipython3",
   "version": "3.11.7"
  }
 },
 "nbformat": 4,
 "nbformat_minor": 5
}
