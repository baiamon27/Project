{
 "cells": [
  {
   "cell_type": "code",
   "execution_count": 2,
   "id": "915d9d83-38a4-4f9c-a948-ab118264838a",
   "metadata": {},
   "outputs": [
    {
     "data": {
      "text/plain": [
       "item_id\n",
       "10    0.334166\n",
       "30    0.065221\n",
       "Name: 20, dtype: float64"
      ]
     },
     "execution_count": 2,
     "metadata": {},
     "output_type": "execute_result"
    }
   ],
   "source": [
    "import pandas as pd\n",
    "import numpy as np\n",
    "from sklearn.metrics.pairwise import cosine_similarity\n",
    "from sklearn.feature_extraction.text import TfidfVectorizer\n",
    "ratings = pd.DataFrame({\n",
    "    'user_id': [1, 1, 2, 2, 3, 3],\n",
    "    'item_id': [10, 20, 10, 30, 20, 30],\n",
    "    'rating': [5, 3, 4, 2, 5, 4]\n",
    "})\n",
    "ratings\n",
    "\n",
    "user_item_matrix = ratings.pivot(index='user_id', columns='item_id', values='rating').fillna(0)\n",
    "\n",
    "item_similarity = cosine_similarity(user_item_matrix.T)\n",
    "item_sim_df = pd.DataFrame(item_similarity, index=user_item_matrix.columns, columns=user_item_matrix.columns)\n",
    "item_sim_df\n",
    "def recommend_items(user_id, user_item_matrix, item_sim_df, top_n=2):\n",
    "    user_ratings = user_item_matrix.loc[user_id]\n",
    "    scores = item_sim_df.dot(user_ratings).div(item_sim_df.sum(axis=1))\n",
    "    recommendations = scores.sort_values(ascending=False)\n",
    "    recommendations = recommendations[user_ratings == 0]  # Filter already rated\n",
    "    return recommendations.head(top_n)\n",
    "\n",
    "recommend_items(1, user_item_matrix, item_sim_df)\n",
    "products = pd.DataFrame({\n",
    "    'item_id': [10, 20, 30],\n",
    "    'description': [\n",
    "        'Wireless bluetooth audio headphones with noise cancellation',\n",
    "        'Bluetooth smartphone with camera and noise cancellation features',\n",
    "        'Fitness tracker wearable with bluetooth, heart rate monitor'\n",
    "    ]\n",
    "})\n",
    "\n",
    "\n",
    "tfidf = TfidfVectorizer(stop_words='english')\n",
    "tfidf_matrix = tfidf.fit_transform(products['description'])\n",
    "cos_sim = cosine_similarity(tfidf_matrix, tfidf_matrix)\n",
    "content_sim_df = pd.DataFrame(cos_sim, index=products['item_id'], columns=products['item_id'])\n",
    "content_sim_df\n",
    "def recommend_similar_items(item_id, content_sim_df, top_n=2):\n",
    "    similar_scores = content_sim_df[item_id].sort_values(ascending=False)\n",
    "    similar_scores = similar_scores[similar_scores.index != item_id]\n",
    "    return similar_scores.head(top_n)\n",
    "\n",
    "recommend_similar_items(20, content_sim_df)"
   ]
  },
  {
   "cell_type": "code",
   "execution_count": null,
   "id": "819df732-2e12-4040-b7cf-7df8a7708e4b",
   "metadata": {},
   "outputs": [],
   "source": []
  }
 ],
 "metadata": {
  "kernelspec": {
   "display_name": "Python 3 (ipykernel)",
   "language": "python",
   "name": "python3"
  },
  "language_info": {
   "codemirror_mode": {
    "name": "ipython",
    "version": 3
   },
   "file_extension": ".py",
   "mimetype": "text/x-python",
   "name": "python",
   "nbconvert_exporter": "python",
   "pygments_lexer": "ipython3",
   "version": "3.11.7"
  }
 },
 "nbformat": 4,
 "nbformat_minor": 5
}
